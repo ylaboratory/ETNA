{
 "cells": [
  {
   "cell_type": "markdown",
   "metadata": {},
   "source": [
    "This notebook is an example of using ETNA algorithm to generate aligned embeddings from two species (<em>S. cerevisiae</em> and <em>S. pombe</em>)"
   ]
  },
  {
   "cell_type": "code",
   "execution_count": 1,
   "metadata": {},
   "outputs": [],
   "source": [
    "import numpy as np\n",
    "import networkx as nx\n",
    "import random\n",
    "import torch\n",
    "import matplotlib.pyplot as plt\n",
    "from collections import defaultdict\n",
    "from sklearn import metrics\n",
    "import importlib\n",
    "\n",
    "import load_data as ld\n",
    "import func\n",
    "import evaluation\n",
    "import algorithms.ETNA as etna\n",
    "import algorithms.helper as helper"
   ]
  },
  {
   "cell_type": "code",
   "execution_count": 2,
   "metadata": {},
   "outputs": [
    {
     "name": "stdout",
     "output_type": "stream",
     "text": [
      "load the ppi network of sce\n",
      "read as directed: 7073 nodes,          116326 edges\n",
      "remove selfloop edges: 7072 nodes, 114578 edges\n",
      "convert to undirected: 7072 nodes, 114578 edges\n",
      "return the distinct nodes: 6284 nodes,                113394 edges\n",
      "load the ppi network of spo\n",
      "read as directed: 3573 nodes,          13122 edges\n",
      "remove selfloop edges: 3508 nodes, 12567 edges\n",
      "convert to undirected: 3508 nodes, 12567 edges\n",
      "return the distinct nodes: 2433 nodes,                11126 edges\n"
     ]
    }
   ],
   "source": [
    "org0 = 'sce'\n",
    "org1 = 'spo'\n",
    "\n",
    "# load two networks - in this example, S. cerevisiae and S. pombe\n",
    "g0 = ld.load_ppi(org0, k_core=None, lcc=False)\n",
    "g1 = ld.load_ppi(org1, k_core=None, lcc=False)"
   ]
  },
  {
   "cell_type": "code",
   "execution_count": 3,
   "metadata": {},
   "outputs": [],
   "source": [
    "# make mapping between node name and node index for two networks\n",
    "g0_node2index = func.node2index(g0)\n",
    "g0_node2index = defaultdict(lambda:-1, g0_node2index)\n",
    "g1_node2index = func.node2index(g1)\n",
    "g1_node2index = defaultdict(lambda:-1, g1_node2index)\n",
    "g0_index2node = func.index2node(g0)\n",
    "g1_index2node = func.index2node(g1)"
   ]
  },
  {
   "cell_type": "code",
   "execution_count": 4,
   "metadata": {},
   "outputs": [
    {
     "name": "stdout",
     "output_type": "stream",
     "text": [
      "(244188, 2)\n",
      "ontology 197576\n",
      "ortholog 1599\n"
     ]
    }
   ],
   "source": [
    "# load ontology file\n",
    "ontology_file = org0 + '_' + org1 + '_ontology_pairs_expert.txt'\n",
    "ontology = ld.load_go_pairs(org0, org1, ontology_file)\n",
    "ontology = ld.filter_anchor(ontology, g0_node2index, g1_node2index)\n",
    "print('ontology', len(ontology))\n",
    "\n",
    "# make ontology matrix for evaluation\n",
    "ontology_matrix = np.zeros((len(g0.nodes()), len(g1.nodes())), dtype=int)\n",
    "for i,j in ontology:\n",
    "    i_idx = g0_node2index[i]\n",
    "    j_idx = g1_node2index[j]\n",
    "    ontology_matrix[i_idx][j_idx] = 1\n",
    "\n",
    "# load ortholog file\n",
    "ortholog = ld.load_anchor(org0, org1)\n",
    "ortholog = ld.filter_anchor(ortholog, g0_node2index, g1_node2index)\n",
    "print('ortholog', len(ortholog))\n",
    "\n",
    "# make ortholog set for cross training\n",
    "ortholog_set = set()\n",
    "for i, j, k in ortholog:\n",
    "    i_idx = g0_node2index[i]\n",
    "    j_idx = g1_node2index[j]\n",
    "    ortholog_set.add((i_idx, j_idx))\n",
    "\n",
    "\n",
    "\n"
   ]
  },
  {
   "cell_type": "code",
   "execution_count": 5,
   "metadata": {},
   "outputs": [],
   "source": [
    "#select gene with at least one annotation\n",
    "org0_annotations = np.sum(ontology_matrix, axis=1)\n",
    "org1_annotations = np.sum(ontology_matrix, axis=0)\n",
    "org0_ontology_indexes = [x for x in range(len(org0_annotations)) if org0_annotations[x]>0]\n",
    "org1_ontology_indexes = [x for x in range(len(org1_annotations)) if org1_annotations[x]>0]\n",
    "\n",
    "test_matrix = ontology_matrix[org0_ontology_indexes][:,org1_ontology_indexes]"
   ]
  },
  {
   "cell_type": "code",
   "execution_count": 6,
   "metadata": {},
   "outputs": [],
   "source": [
    "# pre-calculate matrices (adjacency matrix and normalized deep walk matrix) needed for ETNA\n",
    "g0_adj = nx.adjacency_matrix(g0)\n",
    "g0_dw = helper.direct_compute_deepwalk_matrix(g0_adj, 10).toarray()\n",
    "g0_norms = np.linalg.norm(g0_dw, axis=1, keepdims=True)\n",
    "g0_norms[g0_norms == 0] = 1\n",
    "g0_normalized = (g0_dw/g0_norms)\n",
    "g0_adj = g0_adj.toarray()\n",
    "\n",
    "g1_adj = nx.adjacency_matrix(g1)\n",
    "g1_dw = helper.direct_compute_deepwalk_matrix(g1_adj, 10).toarray()\n",
    "g1_norms = np.linalg.norm(g1_dw, axis=1, keepdims=True)\n",
    "g1_norms[g1_norms == 0] = 1\n",
    "g1_normalized = (g1_dw/g1_norms)\n",
    "g1_adj = g1_adj.toarray()\n"
   ]
  },
  {
   "cell_type": "code",
   "execution_count": 7,
   "metadata": {},
   "outputs": [
    {
     "name": "stderr",
     "output_type": "stream",
     "text": [
      "/Users/llc/ylab/proj-net-embed/src/algorithms/ETNA.py:101: UserWarning: nn.init.xavier_uniform is now deprecated in favor of nn.init.xavier_uniform_.\n",
      "  torch.nn.init.xavier_uniform(m.weight)\n"
     ]
    }
   ],
   "source": [
    "device = 'cpu'\n",
    "# initialize model\n",
    "model = etna.ETNA(g0, g1, ortholog_set, precal=True, \n",
    "             g1_matrices=(g0_adj, g0_dw, g0_normalized),\n",
    "             g2_matrices=(g1_adj, g1_dw, g1_normalized))"
   ]
  },
  {
   "cell_type": "code",
   "execution_count": 8,
   "metadata": {},
   "outputs": [
    {
     "name": "stdout",
     "output_type": "stream",
     "text": [
      "0.7216661736014969 0.1817707376284373\n"
     ]
    }
   ],
   "source": [
    "#train model\n",
    "model.fit()\n",
    "\n",
    "#get embedding and score matrix\n",
    "S = model.get_score_matrix()\n",
    "\n",
    "#evaluate aligned embedding by comparing the score matrix with ontology label generated by GO\n",
    "auroc, auprc = evaluation.evaluate_all(S[org0_ontology_indexes][:,org1_ontology_indexes], \n",
    "                                           test_matrix, np.ones(test_matrix.shape))\n",
    "print(auroc, auprc)"
   ]
  },
  {
   "cell_type": "code",
   "execution_count": null,
   "metadata": {},
   "outputs": [],
   "source": []
  }
 ],
 "metadata": {
  "kernelspec": {
   "display_name": "Python 3",
   "language": "python",
   "name": "python3"
  },
  "language_info": {
   "codemirror_mode": {
    "name": "ipython",
    "version": 3
   },
   "file_extension": ".py",
   "mimetype": "text/x-python",
   "name": "python",
   "nbconvert_exporter": "python",
   "pygments_lexer": "ipython3",
   "version": "3.7.7"
  }
 },
 "nbformat": 4,
 "nbformat_minor": 4
}
